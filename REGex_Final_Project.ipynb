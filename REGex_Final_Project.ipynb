{
  "nbformat": 4,
  "nbformat_minor": 0,
  "metadata": {
    "colab": {
      "name": "REGex_Final Project.ipynb",
      "provenance": [],
      "collapsed_sections": []
    },
    "kernelspec": {
      "name": "python3",
      "display_name": "Python 3"
    },
    "language_info": {
      "name": "python"
    }
  },
  "cells": [
    {
      "cell_type": "markdown",
      "metadata": {
        "id": "zyMTrljOJ0MN"
      },
      "source": [
        "## Amazon_Reviews_Sentiment_Analysis\n",
        "Name : Nishant Kumar\n",
        "\n",
        "reg.Id : SIRSS2272"
      ]
    },
    {
      "cell_type": "markdown",
      "metadata": {
        "id": "ej_QdNMfJ_yM"
      },
      "source": [
        "Required Libraries / Basic Dependencies :"
      ]
    },
    {
      "cell_type": "code",
      "metadata": {
        "id": "zGqCyqyDIlVO"
      },
      "source": [
        "import pandas as pd \n",
        "import numpy as np \n",
        "import matplotlib.pyplot as plt \n",
        "import seaborn as sns \n",
        "import re \n",
        "%matplotlib inline \n",
        "\n",
        "import warnings\n",
        "warnings.filterwarnings(\"ignore\")\n",
        "plt.style.use('ggplot')\n",
        "\n",
        "import nltk\n",
        "from nltk import word_tokenize\n",
        "\n",
        "from sklearn.feature_extraction.text import CountVectorizer\n",
        "from sklearn.feature_extraction.text import TfidfVectorizer\n",
        "from collections import Counter\n",
        "from wordcloud import WordCloud\n",
        "\n",
        "from sklearn.model_selection import train_test_split\n",
        "from sklearn.linear_model import LogisticRegression\n",
        "from sklearn.ensemble import RandomForestClassifier\n",
        "from sklearn.metrics import accuracy_score\n",
        "from sklearn.metrics import f1_score\n",
        "\n",
        "from sklearn.metrics import confusion_matrix, classification_report"
      ],
      "execution_count": 2,
      "outputs": []
    },
    {
      "cell_type": "code",
      "metadata": {
        "colab": {
          "base_uri": "https://localhost:8080/",
          "height": 287
        },
        "id": "NxSNNTcZIz6d",
        "outputId": "96dafec3-9227-456d-f6ac-f219393abc81"
      },
      "source": [
        "df = pd.read_csv(\"Amazon Reviews.csv\")\n",
        "df.head()"
      ],
      "execution_count": 7,
      "outputs": [
        {
          "output_type": "execute_result",
          "data": {
            "text/html": [
              "<div>\n",
              "<style scoped>\n",
              "    .dataframe tbody tr th:only-of-type {\n",
              "        vertical-align: middle;\n",
              "    }\n",
              "\n",
              "    .dataframe tbody tr th {\n",
              "        vertical-align: top;\n",
              "    }\n",
              "\n",
              "    .dataframe thead th {\n",
              "        text-align: right;\n",
              "    }\n",
              "</style>\n",
              "<table border=\"1\" class=\"dataframe\">\n",
              "  <thead>\n",
              "    <tr style=\"text-align: right;\">\n",
              "      <th></th>\n",
              "      <th>Id</th>\n",
              "      <th>ProductId</th>\n",
              "      <th>UserId</th>\n",
              "      <th>ProfileName</th>\n",
              "      <th>HelpfulnessNumerator</th>\n",
              "      <th>HelpfulnessDenominator</th>\n",
              "      <th>Score</th>\n",
              "      <th>Time</th>\n",
              "      <th>Summary</th>\n",
              "      <th>Text</th>\n",
              "    </tr>\n",
              "  </thead>\n",
              "  <tbody>\n",
              "    <tr>\n",
              "      <th>0</th>\n",
              "      <td>1</td>\n",
              "      <td>B001E4KFG0</td>\n",
              "      <td>A3SGXH7AUHU8GW</td>\n",
              "      <td>delmartian</td>\n",
              "      <td>1</td>\n",
              "      <td>1</td>\n",
              "      <td>5</td>\n",
              "      <td>1303862400</td>\n",
              "      <td>Good Quality Dog Food</td>\n",
              "      <td>I have bought several of the Vitality canned d...</td>\n",
              "    </tr>\n",
              "    <tr>\n",
              "      <th>1</th>\n",
              "      <td>2</td>\n",
              "      <td>B00813GRG4</td>\n",
              "      <td>A1D87F6ZCVE5NK</td>\n",
              "      <td>dll pa</td>\n",
              "      <td>0</td>\n",
              "      <td>0</td>\n",
              "      <td>1</td>\n",
              "      <td>1346976000</td>\n",
              "      <td>Not as Advertised</td>\n",
              "      <td>Product arrived labeled as Jumbo Salted Peanut...</td>\n",
              "    </tr>\n",
              "    <tr>\n",
              "      <th>2</th>\n",
              "      <td>3</td>\n",
              "      <td>B000LQOCH0</td>\n",
              "      <td>ABXLMWJIXXAIN</td>\n",
              "      <td>Natalia Corres \"Natalia Corres\"</td>\n",
              "      <td>1</td>\n",
              "      <td>1</td>\n",
              "      <td>4</td>\n",
              "      <td>1219017600</td>\n",
              "      <td>\"Delight\" says it all</td>\n",
              "      <td>This is a confection that has been around a fe...</td>\n",
              "    </tr>\n",
              "    <tr>\n",
              "      <th>3</th>\n",
              "      <td>4</td>\n",
              "      <td>B000UA0QIQ</td>\n",
              "      <td>A395BORC6FGVXV</td>\n",
              "      <td>Karl</td>\n",
              "      <td>3</td>\n",
              "      <td>3</td>\n",
              "      <td>2</td>\n",
              "      <td>1307923200</td>\n",
              "      <td>Cough Medicine</td>\n",
              "      <td>If you are looking for the secret ingredient i...</td>\n",
              "    </tr>\n",
              "    <tr>\n",
              "      <th>4</th>\n",
              "      <td>5</td>\n",
              "      <td>B006K2ZZ7K</td>\n",
              "      <td>A1UQRSCLF8GW1T</td>\n",
              "      <td>Michael D. Bigham \"M. Wassir\"</td>\n",
              "      <td>0</td>\n",
              "      <td>0</td>\n",
              "      <td>5</td>\n",
              "      <td>1350777600</td>\n",
              "      <td>Great taffy</td>\n",
              "      <td>Great taffy at a great price.  There was a wid...</td>\n",
              "    </tr>\n",
              "  </tbody>\n",
              "</table>\n",
              "</div>"
            ],
            "text/plain": [
              "   Id  ...                                               Text\n",
              "0   1  ...  I have bought several of the Vitality canned d...\n",
              "1   2  ...  Product arrived labeled as Jumbo Salted Peanut...\n",
              "2   3  ...  This is a confection that has been around a fe...\n",
              "3   4  ...  If you are looking for the secret ingredient i...\n",
              "4   5  ...  Great taffy at a great price.  There was a wid...\n",
              "\n",
              "[5 rows x 10 columns]"
            ]
          },
          "metadata": {},
          "execution_count": 7
        }
      ]
    },
    {
      "cell_type": "code",
      "metadata": {
        "colab": {
          "base_uri": "https://localhost:8080/"
        },
        "id": "wWtRzXgzKK9S",
        "outputId": "4545820a-1d2a-499d-dfb9-de83823815ac"
      },
      "source": [
        "df.shape"
      ],
      "execution_count": 8,
      "outputs": [
        {
          "output_type": "execute_result",
          "data": {
            "text/plain": [
              "(47919, 10)"
            ]
          },
          "metadata": {},
          "execution_count": 8
        }
      ]
    },
    {
      "cell_type": "code",
      "metadata": {
        "colab": {
          "base_uri": "https://localhost:8080/",
          "height": 295
        },
        "id": "1Y2KTuEEKYYk",
        "outputId": "0938c2bf-9e58-4791-b07a-94ee39181e5d"
      },
      "source": [
        "df.describe()"
      ],
      "execution_count": 9,
      "outputs": [
        {
          "output_type": "execute_result",
          "data": {
            "text/html": [
              "<div>\n",
              "<style scoped>\n",
              "    .dataframe tbody tr th:only-of-type {\n",
              "        vertical-align: middle;\n",
              "    }\n",
              "\n",
              "    .dataframe tbody tr th {\n",
              "        vertical-align: top;\n",
              "    }\n",
              "\n",
              "    .dataframe thead th {\n",
              "        text-align: right;\n",
              "    }\n",
              "</style>\n",
              "<table border=\"1\" class=\"dataframe\">\n",
              "  <thead>\n",
              "    <tr style=\"text-align: right;\">\n",
              "      <th></th>\n",
              "      <th>Id</th>\n",
              "      <th>HelpfulnessNumerator</th>\n",
              "      <th>HelpfulnessDenominator</th>\n",
              "      <th>Score</th>\n",
              "      <th>Time</th>\n",
              "    </tr>\n",
              "  </thead>\n",
              "  <tbody>\n",
              "    <tr>\n",
              "      <th>count</th>\n",
              "      <td>47919.000000</td>\n",
              "      <td>47919.000000</td>\n",
              "      <td>47919.000000</td>\n",
              "      <td>47919.000000</td>\n",
              "      <td>4.791900e+04</td>\n",
              "    </tr>\n",
              "    <tr>\n",
              "      <th>mean</th>\n",
              "      <td>23960.000000</td>\n",
              "      <td>1.600806</td>\n",
              "      <td>2.054175</td>\n",
              "      <td>4.149627</td>\n",
              "      <td>1.295042e+09</td>\n",
              "    </tr>\n",
              "    <tr>\n",
              "      <th>std</th>\n",
              "      <td>13833.168111</td>\n",
              "      <td>5.636381</td>\n",
              "      <td>6.224214</td>\n",
              "      <td>1.323196</td>\n",
              "      <td>4.728541e+07</td>\n",
              "    </tr>\n",
              "    <tr>\n",
              "      <th>min</th>\n",
              "      <td>1.000000</td>\n",
              "      <td>0.000000</td>\n",
              "      <td>0.000000</td>\n",
              "      <td>1.000000</td>\n",
              "      <td>9.617184e+08</td>\n",
              "    </tr>\n",
              "    <tr>\n",
              "      <th>25%</th>\n",
              "      <td>11980.500000</td>\n",
              "      <td>0.000000</td>\n",
              "      <td>0.000000</td>\n",
              "      <td>4.000000</td>\n",
              "      <td>1.269302e+09</td>\n",
              "    </tr>\n",
              "    <tr>\n",
              "      <th>50%</th>\n",
              "      <td>23960.000000</td>\n",
              "      <td>0.000000</td>\n",
              "      <td>1.000000</td>\n",
              "      <td>5.000000</td>\n",
              "      <td>1.308874e+09</td>\n",
              "    </tr>\n",
              "    <tr>\n",
              "      <th>75%</th>\n",
              "      <td>35939.500000</td>\n",
              "      <td>2.000000</td>\n",
              "      <td>2.000000</td>\n",
              "      <td>5.000000</td>\n",
              "      <td>1.330906e+09</td>\n",
              "    </tr>\n",
              "    <tr>\n",
              "      <th>max</th>\n",
              "      <td>47919.000000</td>\n",
              "      <td>398.000000</td>\n",
              "      <td>401.000000</td>\n",
              "      <td>5.000000</td>\n",
              "      <td>1.351210e+09</td>\n",
              "    </tr>\n",
              "  </tbody>\n",
              "</table>\n",
              "</div>"
            ],
            "text/plain": [
              "                 Id  HelpfulnessNumerator  ...         Score          Time\n",
              "count  47919.000000          47919.000000  ...  47919.000000  4.791900e+04\n",
              "mean   23960.000000              1.600806  ...      4.149627  1.295042e+09\n",
              "std    13833.168111              5.636381  ...      1.323196  4.728541e+07\n",
              "min        1.000000              0.000000  ...      1.000000  9.617184e+08\n",
              "25%    11980.500000              0.000000  ...      4.000000  1.269302e+09\n",
              "50%    23960.000000              0.000000  ...      5.000000  1.308874e+09\n",
              "75%    35939.500000              2.000000  ...      5.000000  1.330906e+09\n",
              "max    47919.000000            398.000000  ...      5.000000  1.351210e+09\n",
              "\n",
              "[8 rows x 5 columns]"
            ]
          },
          "metadata": {},
          "execution_count": 9
        }
      ]
    },
    {
      "cell_type": "code",
      "metadata": {
        "colab": {
          "base_uri": "https://localhost:8080/"
        },
        "id": "ndLpeaK6Kau_",
        "outputId": "e4dfa1d3-4758-4aa5-d1b1-670ad3dade76"
      },
      "source": [
        "\n",
        "df.columns"
      ],
      "execution_count": 10,
      "outputs": [
        {
          "output_type": "execute_result",
          "data": {
            "text/plain": [
              "Index(['Id', 'ProductId', 'UserId', 'ProfileName', 'HelpfulnessNumerator',\n",
              "       'HelpfulnessDenominator', 'Score', 'Time', 'Summary', 'Text'],\n",
              "      dtype='object')"
            ]
          },
          "metadata": {},
          "execution_count": 10
        }
      ]
    },
    {
      "cell_type": "markdown",
      "metadata": {
        "id": "lDrRfMIJKgbT"
      },
      "source": [
        "Basic Data Processing "
      ]
    },
    {
      "cell_type": "code",
      "metadata": {
        "colab": {
          "base_uri": "https://localhost:8080/"
        },
        "id": "zamvhLgHKdGb",
        "outputId": "4b2bb630-253c-4cce-f080-a2fdf9811b65"
      },
      "source": [
        "df.nunique()"
      ],
      "execution_count": 11,
      "outputs": [
        {
          "output_type": "execute_result",
          "data": {
            "text/plain": [
              "Id                        47919\n",
              "ProductId                  5970\n",
              "UserId                    38443\n",
              "ProfileName               35537\n",
              "HelpfulnessNumerator        101\n",
              "HelpfulnessDenominator      108\n",
              "Score                         5\n",
              "Time                       2477\n",
              "Summary                   37516\n",
              "Text                      44368\n",
              "dtype: int64"
            ]
          },
          "metadata": {},
          "execution_count": 11
        }
      ]
    },
    {
      "cell_type": "code",
      "metadata": {
        "colab": {
          "base_uri": "https://localhost:8080/"
        },
        "id": "HUE4jIO-KoRf",
        "outputId": "daebdd70-1bd2-45d0-f705-9c4342343d06"
      },
      "source": [
        "df['Text'].nunique()"
      ],
      "execution_count": 12,
      "outputs": [
        {
          "output_type": "execute_result",
          "data": {
            "text/plain": [
              "44368"
            ]
          },
          "metadata": {},
          "execution_count": 12
        }
      ]
    },
    {
      "cell_type": "code",
      "metadata": {
        "colab": {
          "base_uri": "https://localhost:8080/"
        },
        "id": "x-iEUbPFKqlU",
        "outputId": "6d2b4ea6-f378-457c-9ed9-ab959129b8a0"
      },
      "source": [
        "df['Summary'].nunique()"
      ],
      "execution_count": 13,
      "outputs": [
        {
          "output_type": "execute_result",
          "data": {
            "text/plain": [
              "37516"
            ]
          },
          "metadata": {},
          "execution_count": 13
        }
      ]
    },
    {
      "cell_type": "markdown",
      "metadata": {
        "id": "0iIhhXCbK2No"
      },
      "source": [
        "Cleaning the data :"
      ]
    },
    {
      "cell_type": "code",
      "metadata": {
        "colab": {
          "base_uri": "https://localhost:8080/"
        },
        "id": "fmvlUH9jKtCj",
        "outputId": "6117ab6a-e69b-48b2-d55d-d3d01ded5e54"
      },
      "source": [
        "df.isnull().sum()"
      ],
      "execution_count": 15,
      "outputs": [
        {
          "output_type": "execute_result",
          "data": {
            "text/plain": [
              "Id                        0\n",
              "ProductId                 0\n",
              "UserId                    0\n",
              "ProfileName               2\n",
              "HelpfulnessNumerator      0\n",
              "HelpfulnessDenominator    0\n",
              "Score                     0\n",
              "Time                      0\n",
              "Summary                   2\n",
              "Text                      1\n",
              "dtype: int64"
            ]
          },
          "metadata": {},
          "execution_count": 15
        }
      ]
    },
    {
      "cell_type": "code",
      "metadata": {
        "id": "IlmhBNPvK088"
      },
      "source": [
        "df.dropna(inplace= True)"
      ],
      "execution_count": 16,
      "outputs": []
    },
    {
      "cell_type": "code",
      "metadata": {
        "colab": {
          "base_uri": "https://localhost:8080/"
        },
        "id": "antxmOIIK-SD",
        "outputId": "69b6ac09-384e-420b-b71e-45116b495da0"
      },
      "source": [
        "df.isna().sum()"
      ],
      "execution_count": 17,
      "outputs": [
        {
          "output_type": "execute_result",
          "data": {
            "text/plain": [
              "Id                        0\n",
              "ProductId                 0\n",
              "UserId                    0\n",
              "ProfileName               0\n",
              "HelpfulnessNumerator      0\n",
              "HelpfulnessDenominator    0\n",
              "Score                     0\n",
              "Time                      0\n",
              "Summary                   0\n",
              "Text                      0\n",
              "dtype: int64"
            ]
          },
          "metadata": {},
          "execution_count": 17
        }
      ]
    },
    {
      "cell_type": "markdown",
      "metadata": {
        "id": "L9S-9PrpLC92"
      },
      "source": [
        "Remove Columns :"
      ]
    },
    {
      "cell_type": "code",
      "metadata": {
        "colab": {
          "base_uri": "https://localhost:8080/",
          "height": 203
        },
        "id": "PgTjaB8FLAa3",
        "outputId": "dd18de3a-0e1f-4cdf-e9ec-c0b3fdcb801b"
      },
      "source": [
        "df = df.drop(['HelpfulnessNumerator','HelpfulnessDenominator','Time'], axis=1)\n",
        "\n",
        "df.head()\n"
      ],
      "execution_count": 18,
      "outputs": [
        {
          "output_type": "execute_result",
          "data": {
            "text/html": [
              "<div>\n",
              "<style scoped>\n",
              "    .dataframe tbody tr th:only-of-type {\n",
              "        vertical-align: middle;\n",
              "    }\n",
              "\n",
              "    .dataframe tbody tr th {\n",
              "        vertical-align: top;\n",
              "    }\n",
              "\n",
              "    .dataframe thead th {\n",
              "        text-align: right;\n",
              "    }\n",
              "</style>\n",
              "<table border=\"1\" class=\"dataframe\">\n",
              "  <thead>\n",
              "    <tr style=\"text-align: right;\">\n",
              "      <th></th>\n",
              "      <th>Id</th>\n",
              "      <th>ProductId</th>\n",
              "      <th>UserId</th>\n",
              "      <th>ProfileName</th>\n",
              "      <th>Score</th>\n",
              "      <th>Summary</th>\n",
              "      <th>Text</th>\n",
              "    </tr>\n",
              "  </thead>\n",
              "  <tbody>\n",
              "    <tr>\n",
              "      <th>0</th>\n",
              "      <td>1</td>\n",
              "      <td>B001E4KFG0</td>\n",
              "      <td>A3SGXH7AUHU8GW</td>\n",
              "      <td>delmartian</td>\n",
              "      <td>5</td>\n",
              "      <td>Good Quality Dog Food</td>\n",
              "      <td>I have bought several of the Vitality canned d...</td>\n",
              "    </tr>\n",
              "    <tr>\n",
              "      <th>1</th>\n",
              "      <td>2</td>\n",
              "      <td>B00813GRG4</td>\n",
              "      <td>A1D87F6ZCVE5NK</td>\n",
              "      <td>dll pa</td>\n",
              "      <td>1</td>\n",
              "      <td>Not as Advertised</td>\n",
              "      <td>Product arrived labeled as Jumbo Salted Peanut...</td>\n",
              "    </tr>\n",
              "    <tr>\n",
              "      <th>2</th>\n",
              "      <td>3</td>\n",
              "      <td>B000LQOCH0</td>\n",
              "      <td>ABXLMWJIXXAIN</td>\n",
              "      <td>Natalia Corres \"Natalia Corres\"</td>\n",
              "      <td>4</td>\n",
              "      <td>\"Delight\" says it all</td>\n",
              "      <td>This is a confection that has been around a fe...</td>\n",
              "    </tr>\n",
              "    <tr>\n",
              "      <th>3</th>\n",
              "      <td>4</td>\n",
              "      <td>B000UA0QIQ</td>\n",
              "      <td>A395BORC6FGVXV</td>\n",
              "      <td>Karl</td>\n",
              "      <td>2</td>\n",
              "      <td>Cough Medicine</td>\n",
              "      <td>If you are looking for the secret ingredient i...</td>\n",
              "    </tr>\n",
              "    <tr>\n",
              "      <th>4</th>\n",
              "      <td>5</td>\n",
              "      <td>B006K2ZZ7K</td>\n",
              "      <td>A1UQRSCLF8GW1T</td>\n",
              "      <td>Michael D. Bigham \"M. Wassir\"</td>\n",
              "      <td>5</td>\n",
              "      <td>Great taffy</td>\n",
              "      <td>Great taffy at a great price.  There was a wid...</td>\n",
              "    </tr>\n",
              "  </tbody>\n",
              "</table>\n",
              "</div>"
            ],
            "text/plain": [
              "   Id  ...                                               Text\n",
              "0   1  ...  I have bought several of the Vitality canned d...\n",
              "1   2  ...  Product arrived labeled as Jumbo Salted Peanut...\n",
              "2   3  ...  This is a confection that has been around a fe...\n",
              "3   4  ...  If you are looking for the secret ingredient i...\n",
              "4   5  ...  Great taffy at a great price.  There was a wid...\n",
              "\n",
              "[5 rows x 7 columns]"
            ]
          },
          "metadata": {},
          "execution_count": 18
        }
      ]
    },
    {
      "cell_type": "markdown",
      "metadata": {
        "id": "c5c1Go7mLKLP"
      },
      "source": [
        "Merge all review text attributes (title, text description) into one attribute\n",
        "\n",
        "Convert the 5-star rating system into a binary recommendation rating of 1 or 0"
      ]
    },
    {
      "cell_type": "code",
      "metadata": {
        "colab": {
          "base_uri": "https://localhost:8080/",
          "height": 203
        },
        "id": "O9LeF6m7LHjX",
        "outputId": "4f201eda-c136-4222-fbea-387163f1e28e"
      },
      "source": [
        "df['Review'] = (df['ProfileName'].map(str) + ' ' + df['Text']).apply(lambda row: row.strip())\n",
        "df['Rating'] = [1 if Score > 3 else 0 for Score in df['Score']]\n",
        "df = df[['Review','Rating']]\n",
        "\n",
        "df.head()\n"
      ],
      "execution_count": 19,
      "outputs": [
        {
          "output_type": "execute_result",
          "data": {
            "text/html": [
              "<div>\n",
              "<style scoped>\n",
              "    .dataframe tbody tr th:only-of-type {\n",
              "        vertical-align: middle;\n",
              "    }\n",
              "\n",
              "    .dataframe tbody tr th {\n",
              "        vertical-align: top;\n",
              "    }\n",
              "\n",
              "    .dataframe thead th {\n",
              "        text-align: right;\n",
              "    }\n",
              "</style>\n",
              "<table border=\"1\" class=\"dataframe\">\n",
              "  <thead>\n",
              "    <tr style=\"text-align: right;\">\n",
              "      <th></th>\n",
              "      <th>Review</th>\n",
              "      <th>Rating</th>\n",
              "    </tr>\n",
              "  </thead>\n",
              "  <tbody>\n",
              "    <tr>\n",
              "      <th>0</th>\n",
              "      <td>delmartian I have bought several of the Vitali...</td>\n",
              "      <td>1</td>\n",
              "    </tr>\n",
              "    <tr>\n",
              "      <th>1</th>\n",
              "      <td>dll pa Product arrived labeled as Jumbo Salted...</td>\n",
              "      <td>0</td>\n",
              "    </tr>\n",
              "    <tr>\n",
              "      <th>2</th>\n",
              "      <td>Natalia Corres \"Natalia Corres\" This is a conf...</td>\n",
              "      <td>1</td>\n",
              "    </tr>\n",
              "    <tr>\n",
              "      <th>3</th>\n",
              "      <td>Karl If you are looking for the secret ingredi...</td>\n",
              "      <td>0</td>\n",
              "    </tr>\n",
              "    <tr>\n",
              "      <th>4</th>\n",
              "      <td>Michael D. Bigham \"M. Wassir\" Great taffy at a...</td>\n",
              "      <td>1</td>\n",
              "    </tr>\n",
              "  </tbody>\n",
              "</table>\n",
              "</div>"
            ],
            "text/plain": [
              "                                              Review  Rating\n",
              "0  delmartian I have bought several of the Vitali...       1\n",
              "1  dll pa Product arrived labeled as Jumbo Salted...       0\n",
              "2  Natalia Corres \"Natalia Corres\" This is a conf...       1\n",
              "3  Karl If you are looking for the secret ingredi...       0\n",
              "4  Michael D. Bigham \"M. Wassir\" Great taffy at a...       1"
            ]
          },
          "metadata": {},
          "execution_count": 19
        }
      ]
    },
    {
      "cell_type": "markdown",
      "metadata": {
        "id": "ZICO7Jj8LSuk"
      },
      "source": [
        "Remove all records with no review text"
      ]
    },
    {
      "cell_type": "code",
      "metadata": {
        "colab": {
          "base_uri": "https://localhost:8080/",
          "height": 214
        },
        "id": "sLQE2XtFLPgk",
        "outputId": "04a2fb3d-ff7b-49ea-caf3-dd81ddebb658"
      },
      "source": [
        "sns.pairplot(df)"
      ],
      "execution_count": 20,
      "outputs": [
        {
          "output_type": "execute_result",
          "data": {
            "text/plain": [
              "<seaborn.axisgrid.PairGrid at 0x7f8c20d76e90>"
            ]
          },
          "metadata": {},
          "execution_count": 20
        },
        {
          "output_type": "display_data",
          "data": {
            "image/png": "[encoded data removed]",
            "text/plain": [
              "<Figure size 180x180 with 2 Axes>"
            ]
          },
          "metadata": {}
        }
      ]
    },
    {
      "cell_type": "code",
      "metadata": {
        "colab": {
          "base_uri": "https://localhost:8080/",
          "height": 301
        },
        "id": "kkJ8rOaULWJk",
        "outputId": "99b9cf02-8e33-414b-ebee-99c6bcf76a62"
      },
      "source": [
        "\n",
        "sns.distplot(df['Rating'])"
      ],
      "execution_count": 21,
      "outputs": [
        {
          "output_type": "execute_result",
          "data": {
            "text/plain": [
              "<matplotlib.axes._subplots.AxesSubplot at 0x7f8c1f07fdd0>"
            ]
          },
          "metadata": {},
          "execution_count": 21
        },
        {
          "output_type": "display_data",
          "data": {
            "image/png": "[encoded data removed]",
            "text/plain": [
              "<Figure size 432x288 with 1 Axes>"
            ]
          },
          "metadata": {}
        }
      ]
    },
    {
      "cell_type": "code",
      "metadata": {
        "colab": {
          "base_uri": "https://localhost:8080/"
        },
        "id": "qRJjrcwDLY9C",
        "outputId": "049a371c-3ade-489a-aa37-7d09556e475f"
      },
      "source": [
        "df = df[df['Review'] != '']\n",
        "df.info()"
      ],
      "execution_count": 22,
      "outputs": [
        {
          "output_type": "stream",
          "name": "stdout",
          "text": [
            "<class 'pandas.core.frame.DataFrame'>\n",
            "Int64Index: 47914 entries, 0 to 47917\n",
            "Data columns (total 2 columns):\n",
            " #   Column  Non-Null Count  Dtype \n",
            "---  ------  --------------  ----- \n",
            " 0   Review  47914 non-null  object\n",
            " 1   Rating  47914 non-null  int64 \n",
            "dtypes: int64(1), object(1)\n",
            "memory usage: 1.1+ MB\n"
          ]
        }
      ]
    },
    {
      "cell_type": "code",
      "metadata": {
        "colab": {
          "base_uri": "https://localhost:8080/"
        },
        "id": "mTlVVUZcLbun",
        "outputId": "c6984f97-3ade-4b21-bd4a-a2d5906547a1"
      },
      "source": [
        "rating_pct = df['Rating'].value_counts()/len(df) * 100\n",
        "rating_pct"
      ],
      "execution_count": 23,
      "outputs": [
        {
          "output_type": "execute_result",
          "data": {
            "text/plain": [
              "1    76.896106\n",
              "0    23.103894\n",
              "Name: Rating, dtype: float64"
            ]
          },
          "metadata": {},
          "execution_count": 23
        }
      ]
    },
    {
      "cell_type": "code",
      "metadata": {
        "colab": {
          "base_uri": "https://localhost:8080/"
        },
        "id": "DDMuphHtLel3",
        "outputId": "4ee4d5de-0b8d-401b-fdb5-f3597b322d09"
      },
      "source": [
        "df['Rating'].value_counts()"
      ],
      "execution_count": 24,
      "outputs": [
        {
          "output_type": "execute_result",
          "data": {
            "text/plain": [
              "1    36844\n",
              "0    11070\n",
              "Name: Rating, dtype: int64"
            ]
          },
          "metadata": {},
          "execution_count": 24
        }
      ]
    },
    {
      "cell_type": "code",
      "metadata": {
        "colab": {
          "base_uri": "https://localhost:8080/",
          "height": 264
        },
        "id": "0pD37l1yLhAk",
        "outputId": "a87926e6-5579-4783-c780-34fc19b0f387"
      },
      "source": [
        "rating_pct.plot.bar()\n",
        "plt.show()\n"
      ],
      "execution_count": 25,
      "outputs": [
        {
          "output_type": "display_data",
          "data": {
            "image/png": "[encoded data removed]",
            "text/plain": [
              "<Figure size 432x288 with 1 Axes>"
            ]
          },
          "metadata": {}
        }
      ]
    },
    {
      "cell_type": "code",
      "metadata": {
        "colab": {
          "base_uri": "https://localhost:8080/",
          "height": 391
        },
        "id": "_SoaVA6vLkfU",
        "outputId": "4b1adfb5-8cfd-4ffa-a715-3be6d4474698"
      },
      "source": [
        "#words per review\n",
        "\n",
        "plt.figure(figsize = (14,6))\n",
        "WordsPerReview = df['Review'].apply(lambda x: len(x.split(' ')))\n",
        "\n",
        "sns.histplot(WordsPerReview,bins = 100)\n",
        "\n",
        "plt.xlabel('Review Length')\n",
        "plt.show()"
      ],
      "execution_count": 26,
      "outputs": [
        {
          "output_type": "display_data",
          "data": {
            "image/png": "[encoded data removed]",
            "text/plain": [
              "<Figure size 1008x432 with 1 Axes>"
            ]
          },
          "metadata": {}
        }
      ]
    },
    {
      "cell_type": "code",
      "metadata": {
        "colab": {
          "base_uri": "https://localhost:8080/",
          "height": 240
        },
        "id": "bIyYgOvaLnzC",
        "outputId": "b5255909-dfa3-410e-87bb-491028d9e60f"
      },
      "source": [
        "txt = ' '.join(review for review in df.Review)\n",
        "\n",
        "wordcloud = WordCloud(\n",
        "            background_color = 'black',\n",
        "            max_font_size = 100,\n",
        "            max_words = 100,\n",
        "            width = 800,\n",
        "            height = 500\n",
        "            ).generate(txt)\n",
        "\n",
        "\n",
        "plt.imshow(wordcloud,interpolation = 'bilinear')\n",
        "plt.axis('off')\n",
        "plt.show()"
      ],
      "execution_count": 28,
      "outputs": [
        {
          "output_type": "display_data",
          "data": {
            "image/png": "[encoded data removed]",
            "text/plain": [
              "<Figure size 432x288 with 1 Axes>"
            ]
          },
          "metadata": {}
        }
      ]
    },
    {
      "cell_type": "markdown",
      "metadata": {
        "id": "xGt9nnv6L9rx"
      },
      "source": [
        "Split Dataset"
      ]
    },
    {
      "cell_type": "code",
      "metadata": {
        "colab": {
          "base_uri": "https://localhost:8080/"
        },
        "id": "z4AThlWpLq5g",
        "outputId": "9b2a538a-8919-4232-e004-f7d0e5792ca9"
      },
      "source": [
        "from sklearn.model_selection import train_test_split\n",
        "\n",
        "X_train, X_test, y_train, y_test = train_test_split(df[['Review']], df['Rating'], train_size=0.80, random_state=42)\n",
        "\n",
        "X_train.shape, X_test.shape"
      ],
      "execution_count": 29,
      "outputs": [
        {
          "output_type": "execute_result",
          "data": {
            "text/plain": [
              "((38331, 1), (9583, 1))"
            ]
          },
          "metadata": {},
          "execution_count": 29
        }
      ]
    },
    {
      "cell_type": "code",
      "metadata": {
        "colab": {
          "base_uri": "https://localhost:8080/"
        },
        "id": "dgtFfXIBMHro",
        "outputId": "91267990-9344-4c7c-bfad-e6789d115c8e"
      },
      "source": [
        "\n",
        "len(X_train)"
      ],
      "execution_count": 30,
      "outputs": [
        {
          "output_type": "execute_result",
          "data": {
            "text/plain": [
              "38331"
            ]
          },
          "metadata": {},
          "execution_count": 30
        }
      ]
    },
    {
      "cell_type": "code",
      "metadata": {
        "colab": {
          "base_uri": "https://localhost:8080/"
        },
        "id": "_1zPpxadMJn-",
        "outputId": "6d08c253-4fb8-4539-ebe9-3d2d4871bd63"
      },
      "source": [
        "\n",
        "len(X_test)"
      ],
      "execution_count": 31,
      "outputs": [
        {
          "output_type": "execute_result",
          "data": {
            "text/plain": [
              "9583"
            ]
          },
          "metadata": {},
          "execution_count": 31
        }
      ]
    },
    {
      "cell_type": "code",
      "metadata": {
        "colab": {
          "base_uri": "https://localhost:8080/"
        },
        "id": "AZGFluCOMMPd",
        "outputId": "40079c4e-4d09-475f-c4ab-55d734c94777"
      },
      "source": [
        "from collections import Counter\n",
        "Counter(y_train), Counter(y_test)"
      ],
      "execution_count": 32,
      "outputs": [
        {
          "output_type": "execute_result",
          "data": {
            "text/plain": [
              "(Counter({0: 8915, 1: 29416}), Counter({0: 2155, 1: 7428}))"
            ]
          },
          "metadata": {},
          "execution_count": 32
        }
      ]
    },
    {
      "cell_type": "markdown",
      "metadata": {
        "id": "ETK4549cMR2l"
      },
      "source": [
        "## Basic NLP Count based Features :\n",
        "A number of basic text based features can also be created which sometimes are helpful for improving text classification models. Some examples are:\n",
        "\n",
        "Word Count: total number of words in the documents\n",
        "\n",
        "Character Count: total number of characters in the documents\n",
        "\n",
        "Average Word Density: average length of the words used in the documents\n",
        "\n",
        "Puncutation Count: total number of punctuation marks in the documents\n",
        "\n",
        "Upper Case Count: total number of upper count words in the documents\n",
        "\n",
        "Title Word Count: total number of proper case (title) words in the documents"
      ]
    },
    {
      "cell_type": "code",
      "metadata": {
        "id": "PYz85nH4MOxa"
      },
      "source": [
        "import string\n",
        "\n",
        "X_train['char_count'] = X_train['Review'].apply(len)\n",
        "X_train['word_count'] = X_train['Review'].apply(lambda x: len(x.split()))\n",
        "X_train['word_density'] = X_train['char_count'] / (X_train['word_count']+1)\n",
        "X_train['punctuation_count'] = X_train['Review'].apply(lambda x: len(\"\".join(_ for _ in x if _ in string.punctuation))) \n",
        "X_train['title_word_count'] = X_train['Review'].apply(lambda x: len([wrd for wrd in x.split() if wrd.istitle()]))\n",
        "X_train['upper_case_word_count'] = X_train['Review'].apply(lambda x: len([wrd for wrd in x.split() if wrd.isupper()]))\n",
        "\n",
        "\n",
        "X_test['char_count'] = X_test['Review'].apply(len)\n",
        "X_test['word_count'] = X_test['Review'].apply(lambda x: len(x.split()))\n",
        "X_test['word_density'] = X_test['char_count'] / (X_test['word_count']+1)\n",
        "X_test['punctuation_count'] = X_test['Review'].apply(lambda x: len(\"\".join(_ for _ in x if _ in string.punctuation))) \n",
        "X_test['title_word_count'] = X_test['Review'].apply(lambda x: len([wrd for wrd in x.split() if wrd.istitle()]))\n",
        "X_test['upper_case_word_count'] = X_test['Review'].apply(lambda x: len([wrd for wrd in x.split() if wrd.isupper()]))"
      ],
      "execution_count": 33,
      "outputs": []
    },
    {
      "cell_type": "code",
      "metadata": {
        "colab": {
          "base_uri": "https://localhost:8080/",
          "height": 203
        },
        "id": "qdLx7OzdMad1",
        "outputId": "c9ef66a6-54cb-4354-e534-60ffca69e247"
      },
      "source": [
        "\n",
        "X_train.head()"
      ],
      "execution_count": 34,
      "outputs": [
        {
          "output_type": "execute_result",
          "data": {
            "text/html": [
              "<div>\n",
              "<style scoped>\n",
              "    .dataframe tbody tr th:only-of-type {\n",
              "        vertical-align: middle;\n",
              "    }\n",
              "\n",
              "    .dataframe tbody tr th {\n",
              "        vertical-align: top;\n",
              "    }\n",
              "\n",
              "    .dataframe thead th {\n",
              "        text-align: right;\n",
              "    }\n",
              "</style>\n",
              "<table border=\"1\" class=\"dataframe\">\n",
              "  <thead>\n",
              "    <tr style=\"text-align: right;\">\n",
              "      <th></th>\n",
              "      <th>Review</th>\n",
              "      <th>char_count</th>\n",
              "      <th>word_count</th>\n",
              "      <th>word_density</th>\n",
              "      <th>punctuation_count</th>\n",
              "      <th>title_word_count</th>\n",
              "      <th>upper_case_word_count</th>\n",
              "    </tr>\n",
              "  </thead>\n",
              "  <tbody>\n",
              "    <tr>\n",
              "      <th>96</th>\n",
              "      <td>Rhiever My 1-1/2 year old basenji/jack russell...</td>\n",
              "      <td>853</td>\n",
              "      <td>159</td>\n",
              "      <td>5.331250</td>\n",
              "      <td>35</td>\n",
              "      <td>14</td>\n",
              "      <td>2</td>\n",
              "    </tr>\n",
              "    <tr>\n",
              "      <th>11034</th>\n",
              "      <td>Heather L. Koranteng \"HK\" According to an arti...</td>\n",
              "      <td>648</td>\n",
              "      <td>104</td>\n",
              "      <td>6.171429</td>\n",
              "      <td>42</td>\n",
              "      <td>12</td>\n",
              "      <td>3</td>\n",
              "    </tr>\n",
              "    <tr>\n",
              "      <th>34881</th>\n",
              "      <td>E. Rosenberg \"Dinero Spender\" As a fan of Hibi...</td>\n",
              "      <td>144</td>\n",
              "      <td>24</td>\n",
              "      <td>5.760000</td>\n",
              "      <td>7</td>\n",
              "      <td>7</td>\n",
              "      <td>1</td>\n",
              "    </tr>\n",
              "    <tr>\n",
              "      <th>24906</th>\n",
              "      <td>Mary L. G I Love the flavor Van Houtte french ...</td>\n",
              "      <td>270</td>\n",
              "      <td>53</td>\n",
              "      <td>5.000000</td>\n",
              "      <td>15</td>\n",
              "      <td>10</td>\n",
              "      <td>4</td>\n",
              "    </tr>\n",
              "    <tr>\n",
              "      <th>4913</th>\n",
              "      <td>Berry I have been suffering from post nasal dr...</td>\n",
              "      <td>282</td>\n",
              "      <td>56</td>\n",
              "      <td>4.947368</td>\n",
              "      <td>6</td>\n",
              "      <td>5</td>\n",
              "      <td>4</td>\n",
              "    </tr>\n",
              "  </tbody>\n",
              "</table>\n",
              "</div>"
            ],
            "text/plain": [
              "                                                  Review  ...  upper_case_word_count\n",
              "96     Rhiever My 1-1/2 year old basenji/jack russell...  ...                      2\n",
              "11034  Heather L. Koranteng \"HK\" According to an arti...  ...                      3\n",
              "34881  E. Rosenberg \"Dinero Spender\" As a fan of Hibi...  ...                      1\n",
              "24906  Mary L. G I Love the flavor Van Houtte french ...  ...                      4\n",
              "4913   Berry I have been suffering from post nasal dr...  ...                      4\n",
              "\n",
              "[5 rows x 7 columns]"
            ]
          },
          "metadata": {},
          "execution_count": 34
        }
      ]
    },
    {
      "cell_type": "markdown",
      "metadata": {
        "id": "6Dzn9pQgMfcB"
      },
      "source": [
        "Training a Logistic Regression Model :"
      ]
    },
    {
      "cell_type": "code",
      "metadata": {
        "id": "vtN9B1fOMdSB"
      },
      "source": [
        "from sklearn.linear_model import LogisticRegression\n",
        "\n",
        "lr = LogisticRegression(C=1, random_state=42, solver='liblinear')"
      ],
      "execution_count": 35,
      "outputs": []
    },
    {
      "cell_type": "markdown",
      "metadata": {
        "id": "0CvApJ4EMnBY"
      },
      "source": [
        "Model Evaluation Metrics - Quick Refresher"
      ]
    },
    {
      "cell_type": "code",
      "metadata": {
        "colab": {
          "base_uri": "https://localhost:8080/",
          "height": 262
        },
        "id": "DGtMrMFwMjRk",
        "outputId": "e6633182-474b-4894-a268-f54f0f2534f6"
      },
      "source": [
        "lr.fit(X_train.drop(['Review'], axis=1), y_train)\n",
        "predictions = lr.predict(X_test.drop(['Review'], axis=1))\n",
        "\n",
        "print(classification_report(y_test, predictions))\n",
        "pd.DataFrame(confusion_matrix(y_test, predictions))"
      ],
      "execution_count": 37,
      "outputs": [
        {
          "output_type": "stream",
          "name": "stdout",
          "text": [
            "              precision    recall  f1-score   support\n",
            "\n",
            "           0       0.23      0.00      0.01      2155\n",
            "           1       0.78      1.00      0.87      7428\n",
            "\n",
            "    accuracy                           0.77      9583\n",
            "   macro avg       0.50      0.50      0.44      9583\n",
            "weighted avg       0.65      0.77      0.68      9583\n",
            "\n"
          ]
        },
        {
          "output_type": "execute_result",
          "data": {
            "text/html": [
              "<div>\n",
              "<style scoped>\n",
              "    .dataframe tbody tr th:only-of-type {\n",
              "        vertical-align: middle;\n",
              "    }\n",
              "\n",
              "    .dataframe tbody tr th {\n",
              "        vertical-align: top;\n",
              "    }\n",
              "\n",
              "    .dataframe thead th {\n",
              "        text-align: right;\n",
              "    }\n",
              "</style>\n",
              "<table border=\"1\" class=\"dataframe\">\n",
              "  <thead>\n",
              "    <tr style=\"text-align: right;\">\n",
              "      <th></th>\n",
              "      <th>0</th>\n",
              "      <th>1</th>\n",
              "    </tr>\n",
              "  </thead>\n",
              "  <tbody>\n",
              "    <tr>\n",
              "      <th>0</th>\n",
              "      <td>6</td>\n",
              "      <td>2149</td>\n",
              "    </tr>\n",
              "    <tr>\n",
              "      <th>1</th>\n",
              "      <td>20</td>\n",
              "      <td>7408</td>\n",
              "    </tr>\n",
              "  </tbody>\n",
              "</table>\n",
              "</div>"
            ],
            "text/plain": [
              "    0     1\n",
              "0   6  2149\n",
              "1  20  7408"
            ]
          },
          "metadata": {},
          "execution_count": 37
        }
      ]
    },
    {
      "cell_type": "markdown",
      "metadata": {
        "id": "9qwwLP62MvB6"
      },
      "source": [
        "## Leveraging Text Sentiment\n",
        "\n",
        "Reviews are pretty subjective, opinionated and people often express stong emotions, feelings. This makes it a classic case where the text documents here are a good candidate for extracting sentiment as a feature.\n",
        "\n",
        "The general expectation is that highly rated and recommended products (label 1) should have a positive sentiment and products which are not recommended (label 0) should have a negative sentiment.\n",
        "\n",
        "TextBlob is an excellent open-source library for performing NLP tasks with ease, including sentiment analysis. It also an a sentiment lexicon (in the form of an XML file) which it leverages to give both polarity and subjectivity scores.\n",
        "\n",
        "The polarity score is a float within the range [-1.0, 1.0].\n",
        "\n",
        "The subjectivity is a float within the range [0.0, 1.0] where 0.0 is very objective and 1.0 is very subjective."
      ]
    },
    {
      "cell_type": "code",
      "metadata": {
        "colab": {
          "base_uri": "https://localhost:8080/"
        },
        "id": "eJh-un3gMl0t",
        "outputId": "73d6da1e-e644-4578-e3ce-d58f01ac14f0"
      },
      "source": [
        "import textblob\n",
        "\n",
        "textblob.TextBlob('This is an AMAZING pair of Jeans!').sentiment"
      ],
      "execution_count": 38,
      "outputs": [
        {
          "output_type": "execute_result",
          "data": {
            "text/plain": [
              "Sentiment(polarity=0.7500000000000001, subjectivity=0.9)"
            ]
          },
          "metadata": {},
          "execution_count": 38
        }
      ]
    },
    {
      "cell_type": "code",
      "metadata": {
        "colab": {
          "base_uri": "https://localhost:8080/"
        },
        "id": "8R26Z67TM3w4",
        "outputId": "37dbbec9-31df-4880-ea4e-e77aa9570dd8"
      },
      "source": [
        "textblob.TextBlob('I really hated this UGLY T-shirt!!').sentiment"
      ],
      "execution_count": 39,
      "outputs": [
        {
          "output_type": "execute_result",
          "data": {
            "text/plain": [
              "Sentiment(polarity=-0.95, subjectivity=0.85)"
            ]
          },
          "metadata": {},
          "execution_count": 39
        }
      ]
    },
    {
      "cell_type": "markdown",
      "metadata": {
        "id": "SYVRT5ZnM9aH"
      },
      "source": [
        "## Features from Sentiment Analysis :\n",
        "\n",
        "Remember this is unsupervised, lexicon-based sentiment analysis where we don't have any pre-labeled data saying which review migth have a positive or negative sentiment. We use the lexicon to determine this."
      ]
    },
    {
      "cell_type": "code",
      "metadata": {
        "id": "C_s1MOuJM7En"
      },
      "source": [
        "x_train_snt_obj = X_train['Review'].apply(lambda row: textblob.TextBlob(row).sentiment)\n",
        "X_train['Polarity'] = [obj.polarity for obj in x_train_snt_obj.values]\n",
        "X_train['Subjectivity'] = [obj.subjectivity for obj in x_train_snt_obj.values]\n",
        "\n",
        "x_test_snt_obj = X_test['Review'].apply(lambda row: textblob.TextBlob(row).sentiment)\n",
        "X_test['Polarity'] = [obj.polarity for obj in x_test_snt_obj.values]\n",
        "X_test['Subjectivity'] = [obj.subjectivity for obj in x_test_snt_obj.values]"
      ],
      "execution_count": 40,
      "outputs": []
    },
    {
      "cell_type": "code",
      "metadata": {
        "colab": {
          "base_uri": "https://localhost:8080/",
          "height": 203
        },
        "id": "Xj8O3-g1NFYu",
        "outputId": "ccdd2730-b612-46e0-97fe-3d29cf07d8e1"
      },
      "source": [
        "X_train.head()"
      ],
      "execution_count": 41,
      "outputs": [
        {
          "output_type": "execute_result",
          "data": {
            "text/html": [
              "<div>\n",
              "<style scoped>\n",
              "    .dataframe tbody tr th:only-of-type {\n",
              "        vertical-align: middle;\n",
              "    }\n",
              "\n",
              "    .dataframe tbody tr th {\n",
              "        vertical-align: top;\n",
              "    }\n",
              "\n",
              "    .dataframe thead th {\n",
              "        text-align: right;\n",
              "    }\n",
              "</style>\n",
              "<table border=\"1\" class=\"dataframe\">\n",
              "  <thead>\n",
              "    <tr style=\"text-align: right;\">\n",
              "      <th></th>\n",
              "      <th>Review</th>\n",
              "      <th>char_count</th>\n",
              "      <th>word_count</th>\n",
              "      <th>word_density</th>\n",
              "      <th>punctuation_count</th>\n",
              "      <th>title_word_count</th>\n",
              "      <th>upper_case_word_count</th>\n",
              "      <th>Polarity</th>\n",
              "      <th>Subjectivity</th>\n",
              "    </tr>\n",
              "  </thead>\n",
              "  <tbody>\n",
              "    <tr>\n",
              "      <th>96</th>\n",
              "      <td>Rhiever My 1-1/2 year old basenji/jack russell...</td>\n",
              "      <td>853</td>\n",
              "      <td>159</td>\n",
              "      <td>5.331250</td>\n",
              "      <td>35</td>\n",
              "      <td>14</td>\n",
              "      <td>2</td>\n",
              "      <td>0.197421</td>\n",
              "      <td>0.456349</td>\n",
              "    </tr>\n",
              "    <tr>\n",
              "      <th>11034</th>\n",
              "      <td>Heather L. Koranteng \"HK\" According to an arti...</td>\n",
              "      <td>648</td>\n",
              "      <td>104</td>\n",
              "      <td>6.171429</td>\n",
              "      <td>42</td>\n",
              "      <td>12</td>\n",
              "      <td>3</td>\n",
              "      <td>0.015260</td>\n",
              "      <td>0.510714</td>\n",
              "    </tr>\n",
              "    <tr>\n",
              "      <th>34881</th>\n",
              "      <td>E. Rosenberg \"Dinero Spender\" As a fan of Hibi...</td>\n",
              "      <td>144</td>\n",
              "      <td>24</td>\n",
              "      <td>5.760000</td>\n",
              "      <td>7</td>\n",
              "      <td>7</td>\n",
              "      <td>1</td>\n",
              "      <td>0.250000</td>\n",
              "      <td>0.550000</td>\n",
              "    </tr>\n",
              "    <tr>\n",
              "      <th>24906</th>\n",
              "      <td>Mary L. G I Love the flavor Van Houtte french ...</td>\n",
              "      <td>270</td>\n",
              "      <td>53</td>\n",
              "      <td>5.000000</td>\n",
              "      <td>15</td>\n",
              "      <td>10</td>\n",
              "      <td>4</td>\n",
              "      <td>0.463228</td>\n",
              "      <td>0.596561</td>\n",
              "    </tr>\n",
              "    <tr>\n",
              "      <th>4913</th>\n",
              "      <td>Berry I have been suffering from post nasal dr...</td>\n",
              "      <td>282</td>\n",
              "      <td>56</td>\n",
              "      <td>4.947368</td>\n",
              "      <td>6</td>\n",
              "      <td>5</td>\n",
              "      <td>4</td>\n",
              "      <td>0.162500</td>\n",
              "      <td>0.420000</td>\n",
              "    </tr>\n",
              "  </tbody>\n",
              "</table>\n",
              "</div>"
            ],
            "text/plain": [
              "                                                  Review  ...  Subjectivity\n",
              "96     Rhiever My 1-1/2 year old basenji/jack russell...  ...      0.456349\n",
              "11034  Heather L. Koranteng \"HK\" According to an arti...  ...      0.510714\n",
              "34881  E. Rosenberg \"Dinero Spender\" As a fan of Hibi...  ...      0.550000\n",
              "24906  Mary L. G I Love the flavor Van Houtte french ...  ...      0.596561\n",
              "4913   Berry I have been suffering from post nasal dr...  ...      0.420000\n",
              "\n",
              "[5 rows x 9 columns]"
            ]
          },
          "metadata": {},
          "execution_count": 41
        }
      ]
    },
    {
      "cell_type": "markdown",
      "metadata": {
        "id": "J1ejOx_bNS32"
      },
      "source": [
        "Model Training and Evaluation :"
      ]
    },
    {
      "cell_type": "code",
      "metadata": {
        "colab": {
          "base_uri": "https://localhost:8080/",
          "height": 262
        },
        "id": "lV23LWeNNQLc",
        "outputId": "0715a56f-cc6b-46ec-d03d-74cad1879960"
      },
      "source": [
        "lr.fit(X_train.drop(['Review'], axis=1), y_train, )\n",
        "predictions = lr.predict(X_test.drop(['Review'], axis=1))\n",
        "\n",
        "print(classification_report(y_test, predictions))\n",
        "pd.DataFrame(confusion_matrix(y_test, predictions))"
      ],
      "execution_count": 42,
      "outputs": [
        {
          "output_type": "stream",
          "name": "stdout",
          "text": [
            "              precision    recall  f1-score   support\n",
            "\n",
            "           0       0.66      0.23      0.34      2155\n",
            "           1       0.81      0.97      0.88      7428\n",
            "\n",
            "    accuracy                           0.80      9583\n",
            "   macro avg       0.74      0.60      0.61      9583\n",
            "weighted avg       0.78      0.80      0.76      9583\n",
            "\n"
          ]
        },
        {
          "output_type": "execute_result",
          "data": {
            "text/html": [
              "<div>\n",
              "<style scoped>\n",
              "    .dataframe tbody tr th:only-of-type {\n",
              "        vertical-align: middle;\n",
              "    }\n",
              "\n",
              "    .dataframe tbody tr th {\n",
              "        vertical-align: top;\n",
              "    }\n",
              "\n",
              "    .dataframe thead th {\n",
              "        text-align: right;\n",
              "    }\n",
              "</style>\n",
              "<table border=\"1\" class=\"dataframe\">\n",
              "  <thead>\n",
              "    <tr style=\"text-align: right;\">\n",
              "      <th></th>\n",
              "      <th>0</th>\n",
              "      <th>1</th>\n",
              "    </tr>\n",
              "  </thead>\n",
              "  <tbody>\n",
              "    <tr>\n",
              "      <th>0</th>\n",
              "      <td>501</td>\n",
              "      <td>1654</td>\n",
              "    </tr>\n",
              "    <tr>\n",
              "      <th>1</th>\n",
              "      <td>253</td>\n",
              "      <td>7175</td>\n",
              "    </tr>\n",
              "  </tbody>\n",
              "</table>\n",
              "</div>"
            ],
            "text/plain": [
              "     0     1\n",
              "0  501  1654\n",
              "1  253  7175"
            ]
          },
          "metadata": {},
          "execution_count": 42
        }
      ]
    },
    {
      "cell_type": "markdown",
      "metadata": {
        "id": "9tGbHvBVNaLK"
      },
      "source": [
        "**Interesting ! Looks like we are now able to predict 22% of the total number of bad or negative rated products now! Precision is quite good at 67%**\n",
        "\n",
        "F1-Score for bad reviews is now 34% and good reviews is 89%\n",
        "\n",
        "**This brings our overall F1-Score to 77% which is quite good.** *"
      ]
    },
    {
      "cell_type": "code",
      "metadata": {
        "id": "vyrUjsJiNW-y"
      },
      "source": [
        ""
      ],
      "execution_count": null,
      "outputs": []
    }
  ]
}